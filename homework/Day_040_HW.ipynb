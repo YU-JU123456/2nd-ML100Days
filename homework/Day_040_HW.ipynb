{
 "cells": [
  {
   "cell_type": "markdown",
   "metadata": {},
   "source": [
    "## [作業重點]\n",
    "使用 Sklearn 中的 Lasso, Ridge 模型，來訓練各種資料集，務必了解送進去模型訓練的**資料型態**為何，也請了解模型中各項參數的意義。\n",
    "\n",
    "機器學習的模型非常多種，但要訓練的資料多半有固定的格式，確保你了解訓練資料的格式為何，這樣在應用新模型時，就能夠最快的上手開始訓練！"
   ]
  },
  {
   "cell_type": "markdown",
   "metadata": {},
   "source": [
    "## 練習時間\n",
    "試著使用 sklearn datasets 的其他資料集 (boston, ...)，來訓練自己的線性迴歸模型，並加上適當的正則話來觀察訓練情形。"
   ]
  },
  {
   "cell_type": "code",
   "execution_count": 1,
   "metadata": {},
   "outputs": [],
   "source": [
    "import numpy as np\n",
    "import matplotlib.pyplot as plt\n",
    "from sklearn import datasets, linear_model\n",
    "from sklearn.model_selection import train_test_split\n",
    "from sklearn.metrics import mean_squared_error, r2_score"
   ]
  },
  {
   "cell_type": "code",
   "execution_count": 2,
   "metadata": {},
   "outputs": [],
   "source": [
    "boston = datasets.load_boston()"
   ]
  },
  {
   "cell_type": "code",
   "execution_count": 3,
   "metadata": {},
   "outputs": [],
   "source": [
    "# 切分訓練集/測試集\n",
    "x_train, x_test, y_train, y_test = train_test_split(boston.data, boston.target, test_size=0.2)"
   ]
  },
  {
   "cell_type": "code",
   "execution_count": 4,
   "metadata": {},
   "outputs": [
    {
     "data": {
      "text/plain": [
       "array([33.4,  9.7, 17. , 22.8, 24.4, 12.1, 15. , 21.4, 14.1, 20.8, 17.1,\n",
       "       24.8, 18.5, 28.5, 21.6, 37.3,  9.6, 14.9, 16.8, 24.8,  7.2,  8.5,\n",
       "       23.1, 19.5, 21.7, 18.8, 17.1, 14.2,  7.2, 26.6, 18.2, 19.5, 42.8,\n",
       "       30.1,  8.8, 16.3, 25.2, 13.6, 31.5, 15.1, 25. , 14. , 22. , 29.8,\n",
       "       26.7, 10.2, 24.4, 19.9, 14.3, 14.1, 16.1, 34.9, 14.5, 50. , 19.3,\n",
       "       24.3, 30.1, 27.5, 23.4, 50. , 23.3, 50. , 14.9, 19.4, 14.6, 13.1,\n",
       "        7.2,  5. , 19.8, 48.5,  8.4, 23.1,  7.5, 20.7, 21.2, 29. , 27.9,\n",
       "       18.5, 15.6, 19.5, 20.5, 18. , 19.3, 28.1, 22.3, 16.6, 20.4, 11.9,\n",
       "       26.2, 24.5, 34.9, 22.2, 23.3, 20.3,  8.4, 27.5, 23.8, 16.7, 13.3,\n",
       "       31.5, 13.3, 10.9, 18.2, 23.3, 19.2, 23.4, 32.9, 15. , 36.2, 10.2,\n",
       "       20.5, 17.5, 19.4, 34.9, 23. , 26.4, 20.6, 33.2, 31.2, 21.2, 28.2,\n",
       "        8.3, 11.5, 18.9, 18.3, 12.7, 34.7, 22.2, 28.7, 24.7, 17.2,  5.6,\n",
       "       32.7, 37. , 29.9, 32.2, 32. ,  8.8, 20.3, 20. , 21.8,  8.1, 19.1,\n",
       "       14.5, 13.2, 11.9, 18.2, 19.1, 20.8, 29.1, 36.1, 33.1, 15.2, 18.9,\n",
       "       33. , 15.6, 19.3, 29.6, 50. , 19.1, 24.1, 21.7, 12. , 44.8, 23.2,\n",
       "       35.4, 17.8, 25. , 27. , 15.6, 14.8, 20.1, 21.2, 22.2,  7. , 25. ,\n",
       "       18.4, 23.5, 16.8, 21.9, 14.4, 13.8, 16.2, 23.8, 23. , 23.7, 25.1,\n",
       "       22.4, 20. , 32. , 19.8, 23.6, 19.9, 11.7, 24.1, 41.7, 22. , 13.1,\n",
       "       23.1, 23.7, 14.1, 24.5,  8.5, 26.6, 24.5, 31.1, 22. , 35.4, 50. ,\n",
       "       18.5, 21.8, 19.3, 16.1, 28.6, 19.3, 21.7, 20. ,  5. , 22.2, 23.9,\n",
       "       28.7, 11.8, 20.6, 48.3, 36.5, 15.3, 20.3, 20.1, 23. , 50. , 30.7,\n",
       "       50. , 13.4, 14.5, 20.6, 17.5, 22.5, 37.9, 24. , 20.4, 19.4, 26.4,\n",
       "       31.6, 20.4, 29.6, 35.2, 18.7, 21.9, 25. , 15.4, 23.9, 19. , 17.1,\n",
       "       27.1, 22. , 32.4, 22.6, 16.7, 36.2, 19.6, 30.5, 44. , 16. , 15.2,\n",
       "       19. , 24.3, 21.5, 13.1, 50. , 50. , 27.5, 24.8, 16.6, 22.6, 33.3,\n",
       "       19.7, 20. , 18.7, 23.1, 19.6, 28. , 20.2, 12.3, 14.6, 23.3, 31.7,\n",
       "       17.4, 13. , 21.4, 23. , 11.8, 17.2, 18.6, 19.6, 28.7, 23.8, 22.9,\n",
       "       17.8, 23.8, 22.3, 17.5, 20.6, 20.2, 50. ,  8.7, 18.1, 13.5, 23.9,\n",
       "       24.4, 13.4, 24.7, 21.1, 31.6, 13.8, 13.8, 16.1, 17.8, 18.4, 21.4,\n",
       "       22.1, 12.6, 21.4, 48.8, 22.7, 19.4, 37.6, 39.8, 43.1, 21. , 15.6,\n",
       "       25. , 12.8, 18.4, 33.2, 23.7,  6.3, 20.4, 37.2,  7. , 19.2, 24.3,\n",
       "       24. , 25. , 10.4, 10.5, 18.5, 22. , 13.9, 20.5, 50. , 43.5, 17.6,\n",
       "       46. , 27.1, 24.2, 21.7, 15.6, 10.4, 19.1, 22.6, 13.5, 22.5, 23.1,\n",
       "       13.6, 17.4, 33.1, 17.3, 36. , 18.6,  9.5, 20.1, 11. , 13.8, 31. ,\n",
       "       22.9, 19.6, 33.8, 23.2, 12.7, 17.8, 13.9, 21.4, 22.6, 24.4, 50. ,\n",
       "       21.7, 21.9, 20.1, 22.8,  8.3, 25. , 24.1, 34.6, 25. , 50. ,  7.4,\n",
       "       21.1, 18.7, 10.5, 29.1, 23.2, 20.7, 20.9, 23.6])"
      ]
     },
     "execution_count": 4,
     "metadata": {},
     "output_type": "execute_result"
    }
   ],
   "source": [
    "y_train"
   ]
  },
  {
   "cell_type": "code",
   "execution_count": 5,
   "metadata": {},
   "outputs": [
    {
     "name": "stdout",
     "output_type": "stream",
     "text": [
      "[-9.75348145e-02  4.83264718e-02  5.18105675e-02  2.22970101e+00\n",
      " -1.67285337e+01  3.94715371e+00  9.07430778e-03 -1.29085751e+00\n",
      "  3.12531494e-01 -1.23035039e-02 -9.53132827e-01  1.05647858e-02\n",
      " -5.44176927e-01]\n",
      "Mean squared error: 25.88\n"
     ]
    }
   ],
   "source": [
    "# 建立一個線性回歸模型\n",
    "regr = linear_model.LinearRegression()\n",
    "\n",
    "# 將訓練資料丟進去模型訓練\n",
    "regr.fit(x_train, y_train)\n",
    "\n",
    "# 將測試資料丟進模型得到預測結果\n",
    "y_pred = regr.predict(x_test)\n",
    "\n",
    "print(regr.coef_)\n",
    "# 預測值與實際值的差距，使用 MSE\n",
    "print(\"Mean squared error: %.2f\"\n",
    "      % mean_squared_error(y_test, y_pred))"
   ]
  },
  {
   "cell_type": "markdown",
   "metadata": {},
   "source": [
    "### LASSO"
   ]
  },
  {
   "cell_type": "code",
   "execution_count": 7,
   "metadata": {},
   "outputs": [
    {
     "data": {
      "text/plain": [
       "array([-0.05931727,  0.05170145, -0.        ,  0.        , -0.        ,\n",
       "        0.92448916,  0.03265553, -0.53990777,  0.27459169, -0.01448792,\n",
       "       -0.71916661,  0.00872651, -0.79407909])"
      ]
     },
     "execution_count": 7,
     "metadata": {},
     "output_type": "execute_result"
    }
   ],
   "source": [
    "#from sklearn.linear_model import Lasso\n",
    "# 建立一個線性回歸模型\n",
    "lasso = linear_model.Lasso(alpha=1.0)\n",
    "\n",
    "# 將訓練資料丟進去模型訓練\n",
    "lasso.fit(x_train, y_train)\n",
    "\n",
    "# 將測試資料丟進模型得到預測結果\n",
    "y_pred = lasso.predict(x_test)\n",
    "\n",
    "# 印出各特徵對應的係數，可以看到許多係數都變成 0，Lasso Regression 的確可以做特徵選取\n",
    "lasso.coef_"
   ]
  },
  {
   "cell_type": "code",
   "execution_count": 8,
   "metadata": {},
   "outputs": [
    {
     "name": "stdout",
     "output_type": "stream",
     "text": [
      "Mean squared error: 32.02\n"
     ]
    }
   ],
   "source": [
    "# 預測值與實際值的差距，使用 MSE\n",
    "print(\"Mean squared error: %.2f\"\n",
    "      % mean_squared_error(y_test, y_pred))"
   ]
  },
  {
   "cell_type": "code",
   "execution_count": null,
   "metadata": {},
   "outputs": [],
   "source": []
  }
 ],
 "metadata": {
  "kernelspec": {
   "display_name": "Python 3",
   "language": "python",
   "name": "python3"
  },
  "language_info": {
   "codemirror_mode": {
    "name": "ipython",
    "version": 3
   },
   "file_extension": ".py",
   "mimetype": "text/x-python",
   "name": "python",
   "nbconvert_exporter": "python",
   "pygments_lexer": "ipython3",
   "version": "3.7.3"
  }
 },
 "nbformat": 4,
 "nbformat_minor": 2
}
